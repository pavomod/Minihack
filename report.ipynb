{
 "cells": [
  {
   "cell_type": "markdown",
   "metadata": {},
   "source": [
    "# SmasHack! 👾\n",
    "\n",
    "Exam project of the Artificial Intelligence Fundamentals course [643AA], a.y. 2023/24\n",
    "\n",
    "**Developed by the Hackward Hackers:**\n",
    "- [Daniele Bedini](https://github.com/danielebedini)\n",
    "- [Francesca Poli](https://github.com/francescapoli98)\n",
    "- [Gioele Modica](https://github.com/pavomod)\n",
    "- [Giovanni Criscione](https://github.com/gcriscione)\n",
    "\n",
    "<img src=\"img/smashack.png\" width=\"80\">  *Github repo: https://github.com/AIF-2023/AIF-Project*"
   ]
  },
  {
   "cell_type": "markdown",
   "metadata": {},
   "source": [
    "## Introduction"
   ]
  },
  {
   "cell_type": "markdown",
   "metadata": {},
   "source": [
    "The project is based on an intelligent agent that plays a custom level in the NetHack rogue game. The agent is inserted into a room, which is the environment it has to percept. The agent has to firstly pick up and wield a weapon, then kill all the monsters and, finally, finish the level exiting through the stairs and win.\n",
    "\n",
    "The agent's aim is to use a searching algorithm to reach the desired targets one at a time, following the order previously listed: weapon, monsters, stairs. At each step of the agent, the heuristic will evaluate the best possible move, taking into consideration the targets' order and placement, and the agent's health level represented as hit points: the heuristic needs to predict all the possible scenarios and choose the one that seems to be the most convenient at the moment in order to take a step in one direction. "
   ]
  },
  {
   "cell_type": "markdown",
   "metadata": {},
   "source": [
    "#### Agent type:\n",
    "**Utility-based** agent that ponderates step by step each possible set of states stemming from the move it is about to make, with the aim of catching all the targets and finishing the game level.\n",
    "\n",
    "#### Environment type:\n",
    "-  Fully observable\n",
    "-  Non deterministic \n",
    "-  Episodic \n",
    "-  Dynamic\n",
    "-  Discrete\n",
    "-  Single-agent\n",
    "\n",
    "#### High-level characterization of the task environment through **PEAS** descriptors:\n",
    "**Performance Measure:** fast, safe (the agent preserves its health) \n",
    "\n",
    "**Environment:** monsters (Zombie Kobold), weapon (dagger), stairs (entry and exit) \n",
    "\n",
    "**Actuators:** moves, fight, pickup, wield\n",
    "\n",
    "**Sensors:** proximity (the agent's visual field)\n"
   ]
  },
  {
   "cell_type": "markdown",
   "metadata": {},
   "source": [
    "--------------------------------------------"
   ]
  },
  {
   "cell_type": "markdown",
   "metadata": {},
   "source": [
    "We solved this task by developing two different heuristics: \n",
    "- **Tactical heuristic (heuristic_GG.py):** the agent is told exactly what to do considering the percepts received in input, which are treated as a Class and fed to the heuristic function in a more direct approach. The function returns to the agent a score for each move that is calculated after an in-depth analysis of the environment's situation and the number of hit points. \n",
    "- **Greedy heuristic (heuristic_FD.py):** the agent is guided by a system of priorities based off the percepts received in input, that converge into a weighted sum of all the targets' importance considering their order and proximity, and the number of hit points."
   ]
  },
  {
   "cell_type": "markdown",
   "metadata": {},
   "source": [
    "## Related work"
   ]
  },
  {
   "cell_type": "markdown",
   "metadata": {},
   "source": [
    "We developed this project using Python 3.11, exploiting the [MiniHack](https://minihack.readthedocs.io/en/latest/) framework and documentation.\n",
    "As for the libraries, we imported [gym](https://www.gymlibrary.dev/) and the [NetHack Learning Environment (nle)](https://github.com/facebookresearch/nle).\n",
    "\n",
    "For the customisation of the environment we consulted the [NetHack Wiki](https://nethackwiki.com/wiki/Main_Page) and the [Guidebook for NetHack](https://www.nethack.org/download/3.6.5/nethack-365-Guidebook.pdf).\n",
    "\n",
    "Moreover, we consulted the report of the *I Matematici*'s project from last year published on Moodle, the [Genetic Algorithms for NetHack](https://elearning.di.unipi.it/pluginfile.php/76058/mod_resource/content/5/AIF_Project.pdf), as inspiration for our report's structure."
   ]
  },
  {
   "cell_type": "markdown",
   "metadata": {},
   "source": [
    "## Methodologies"
   ]
  },
  {
   "cell_type": "markdown",
   "metadata": {},
   "source": [
    "### Heuristic #1: greedy approach"
   ]
  },
  {
   "cell_type": "markdown",
   "metadata": {},
   "source": [
    "- **Greedy approach**<br>\n",
    "This heuristic adopts a greedy approach, it always goes towards the nearest object it tries to reach. The approach is quite simple, it uses a dictionary of weights, each one of them indicates a priority number, the higher the weight the higher the priority. The object nearest to the agent with the higher priority will be the next target of the agent. \n",
    "\n",
    "- **Agent's status, health points and bravery**<br>\n",
    "The agent's status is defined by the amount of hit points (*hp*) that it has and its brave rate (or threshold). These two values are checked at every step and they play an important role in the selection of the best cell to go in the next move. The brave threshold is common to both of the heuristic, but in this one, the value increases if the agent has a weapon in its hands.\n",
    "\n",
    "- **Weight dictionary**<br> \n",
    "This is the data structure in which the weights are defined. There are 3 different configurations for 4 different scenarios. Every scenario is chosen by checking the agent's status and each one of them has a specific weight configuration. The priority in general works as follows: weapon, monster, exit.\n",
    "\n",
    "  - *Default mode*: this is the initial setup where the agent has an high amount of hp and it is trying to reach the nearest weapon. In this setup the weights are in descending order from the weapon to the exit.\n",
    "\n",
    "  - *Weapon mode*: this configuration is used when the agent successfully picks up and wields the weapon. The weapon weight is set to 0 and the monster weight is higher than the exit one.\n",
    "\n",
    "  - *Danger mode*: this comes into play when the percentage of hp goes lower than the brave threshold. In this setup, the monster weights are set to a negative value: doing so, the agent will try to maximise the distance by the nearest monster. \n",
    "\n",
    "  - *Danger weapon mode*: this mode slightly differentiates from the previous one because it comes into play in a different situation. This mode is activated when the hp rate goes under the brave threshold plus the increase of the weapon brave value. This results in a situation where the agent would escape with less hp than normal if it has a weapon to use. The weight configuration, though, is the same for the the danger mode, as it works in the same manner.\n",
    "\n",
    "- **Cell score calculation**<br>\n",
    "The final calculation is a sum of products that multiplies the weights with the corresponding distances of the objects. This value is calculated at each step for every possible cell where the agent could go. The selected cell will be the one with the lowest value."
   ]
  },
  {
   "cell_type": "markdown",
   "metadata": {},
   "source": [
    "### Heuristic #2: tactical approach"
   ]
  },
  {
   "cell_type": "markdown",
   "metadata": {},
   "source": [
    " - **Behavior Personalization**<br>\n",
    "The heuristic aims to implement a tactical strategy for problem resolution by considering the agent's current situation and devising the optimal strategy for that specific scenario. An inherent feature of the heuristic involves the use of pre-defined parameters during design to more effectively balance the impact of environmental characteristics on the agent's choice of the next action. \n",
    "\n",
    " - **Strategy Selection**<br>\n",
    "The agent determines whether to adopt a combat, escape, or weapon acquisition strategy. The choice of strategy is influenced by the presence of a weapon on the map. If available, priority is given to acquiring the weapon. Otherwise, the heuristic employs the parameter BRAVE_PLAYER to determine whether the agent should engage in combat or adopt an escape strategy to restore health. The strategies primarily utilize an approach of selecting a target, and based on that, the best move is derived. After fixing a target, a SCORE function is used, suggesting the optimal move by minimizing the Euclidean distance from the target while simultaneously maximizing the distance from monsters, thereby achieving the objective while evading the monsters.\n",
    "\n",
    " - **Combat Strategy**<br>\n",
    "To suggest the best cell, the heuristic focuses on identifying an optimal candidate monster among those present on the map to be taken as the target. The main idea is to consider not only the distance, but also the grouping of monsters: the target selection is weighted, choosing the monster that minimizes the distance from the agent, penalized by the number of monsters around it.\n",
    "\n",
    " - **Escape Strategy**<br>\n",
    "The escape strategy is carefully implemented to address critical situations. The heuristic aims to maximize the distance from monsters, giving higher priority to those closer. However, recognizing the potential pitfalls of entrapment, the heuristic checks if the agent is in a trap situation. This is assessed by considering the number of monsters near the player and their angular disposition. In the case of a trap, a different strategy is adopted guiding the agent towards the map corner farthest from the monsters.\n",
    "\n",
    " - **Weapon Acquisition Strategy**<br>\n",
    "When the agent seeks to acquire a weapon, the heuristic uses Euclidean distance as the primary metric. However, the optimal cell suggestion also takes into account the need to distance oneself from monsters, minimizing the risk of being surrounded or attacked. The agent, therefore, selects the cell that approaches the desired target while ensuring a safe distance from surrounding monsters."
   ]
  },
  {
   "cell_type": "markdown",
   "metadata": {},
   "source": [
    "### Project development"
   ]
  },
  {
   "cell_type": "markdown",
   "metadata": {},
   "source": [
    "We start by creating the new custom environment that was defined in *utils.py*. \n",
    "Race, role, sex, and alignment of the agent are generated randomly, while both the compass' directions and the commands PICKUP and WIELD are initialised. The commands are taken from MiniHack's [action spaces](https://minihack.readthedocs.io/en/latest/getting-started/action_spaces.html)."
   ]
  },
  {
   "cell_type": "code",
   "execution_count": 3,
   "metadata": {},
   "outputs": [],
   "source": [
    "import numpy as np\n",
    "import matplotlib.pyplot as plt\n",
    "from utils import *\n",
    "from heuristic_FD import heuristic_fd\n",
    "from heuristic_GG import heuristic_gg, BRAVE_PLAYER\n",
    "\n",
    "# this function starts the game, it takes as input the heuristic to use    \n",
    "def start_game(heuristic: Callable[[np.ndarray, Tuple[int, int], Tuple[int, int], int, bool], int]):\n",
    "\n",
    "    # initialize the environment\n",
    "    state = env.reset()\n",
    "    game_map = state['chars']\n",
    "    game = state['pixel']\n",
    "\n",
    "    # get the locations of the player, the target and the weapons\n",
    "    start = get_player_location(game_map)\n",
    "    end_target = get_target_location(game_map)\n",
    "    weapons = get_weapon_location(game_map)\n",
    "\n",
    "    # plot the initial state\n",
    "    player_moves = [start]\n",
    "    image = plt.imshow(game[:, 300:975])\n",
    "\n",
    "    # initialize the game\n",
    "    end_state = False # if the game is over\n",
    "    hp_rate = 1 # hp rate, at the beginning is 100%\n",
    "    weapon_in_hand = False # if the player has a weapon\n",
    "    total_moves = 0 # total moves\n",
    "    hp_history = np.array([]) # hp history\n",
    "    moves_history = np.array([]) # moves history, 1 move = 1 time unit\n",
    "\n",
    "    # start the game, it goes until the player dies or reaches the target\n",
    "    while not end_state:\n",
    "        \n",
    "        # get the current position of the player\n",
    "        current_position = get_player_location(game_map)\n",
    "\n",
    "        # get the best move, in according to the chosen heuristic\n",
    "        coord = get_best_move(game_map, current_position, end_target, heuristic, hp_rate, weapon_in_hand)\n",
    "\n",
    "        # if the agent is on a weapon, he picks it up and wields it\n",
    "        if len(weapons)>0 and not(weapon_in_hand) and current_position in weapons: \n",
    "            pickup() \n",
    "            wield()\n",
    "            weapon_in_hand = True # now the agent has a weapon\n",
    "        \n",
    "        # update step\n",
    "        game_map, _, end_state, _ = env.step(actions_from_path(current_position,[coord])[0])\n",
    "\n",
    "        # update hp rate\n",
    "        hp = game_map[\"blstats\"][10]\n",
    "        max_hp = game_map[\"blstats\"][11]\n",
    "        if hp > 0:\n",
    "            hp_rate = (hp/max_hp)\n",
    "\n",
    "        # update the map\n",
    "        game_map=plot_map(game_map,image)\n",
    "        player_moves.append(coord)\n",
    "\n",
    "        # update the total moves\n",
    "        total_moves += 1\n",
    "        \n",
    "        # for plots\n",
    "        moves_history = np.append(moves_history, total_moves)\n",
    "        hp_history= np.append(hp_history, hp_rate)\n",
    "\n",
    "    return hp_history, moves_history\n",
    "\n",
    "# starts the game with the two heuristics and plots the hp history in relation to the total moves\n",
    "def game():\n",
    "    # start the game with the two heuristics\n",
    "    hp_history_fd, moves_history_fd = start_game(heuristic_fd)\n",
    "    hp_history_gg, moves_history_gg = start_game(heuristic_gg)\n",
    "\n",
    "    # plot hp history, this plot shows the hp rate in relation to the total moves\n",
    "    # the graph is shared between the two heuristics, there is also a threshold line (brave rate)\n",
    "    hp_plots(hp_history_fd, moves_history_fd, hp_history_gg, moves_history_gg, round(1-BRAVE_PLAYER,1))"
   ]
  },
  {
   "cell_type": "markdown",
   "metadata": {},
   "source": [
    "### DEMO"
   ]
  },
  {
   "cell_type": "markdown",
   "metadata": {},
   "source": [
    "We invite you to run the game yourself to visualise the differences between the heuristics. We also recommend to do it several times to obtain an average of the simulations' results."
   ]
  },
  {
   "cell_type": "code",
   "execution_count": 4,
   "metadata": {},
   "outputs": [
    {
     "data": {
      "image/png": "[encoded data removed]",
      "text/plain": [
       "<Figure size 640x480 with 1 Axes>"
      ]
     },
     "metadata": {},
     "output_type": "display_data"
    },
    {
     "data": {
      "image/png": "[encoded data removed]",
      "text/plain": [
       "<Figure size 640x480 with 1 Axes>"
      ]
     },
     "metadata": {},
     "output_type": "display_data"
    }
   ],
   "source": [
    "game() # start the game "
   ]
  },
  {
   "cell_type": "markdown",
   "metadata": {},
   "source": [
    "## Assessment"
   ]
  },
  {
   "cell_type": "markdown",
   "metadata": {},
   "source": [
    "In this section, the aim is to compare the two heuristics emphasising the disparity between the **greedy** and the **tactical** approach. Several tests were conducted on two maps with a parameter indicating courage, called **brave** parameter: one in which the agent starts in less critical conditions and the other where the agent starts already surrounded by monsters. \n",
    "\n",
    "The performance evaluation is based on the **percentage of health points** and the **number of steps** at the end of execution. In order to set a baseline for our results and validate our statistics, we also inserted an analysis of the behaviour of an agent that moves completely randomly, without any heuristics. This was made in order to illustrate how easily an agent without any reasoning fails. A selection of two significant plots for each task has been made."
   ]
  },
  {
   "cell_type": "markdown",
   "metadata": {},
   "source": [
    "### Agent not surrounded by monsters"
   ]
  },
  {
   "cell_type": "markdown",
   "metadata": {},
   "source": [
    "During execution with the *brave* parameter's threshold set to **1**, the agent shows an inclination to attack monsters regardless of the current life percentage. From the graphs, it emerges that the heuristic with the greedy approach (#1) tends to lose more life than the one that exploits a tactical approach (#2), as it aims to attack the closest monster with the goal of minimising the number of steps, without worrying about the surrounding monsters. This heuristic almost always succeeds in eliminating all monsters with fewer steps, but at the cost of putting the health at serious risk.\n",
    "\n",
    "The tactical heuristic (#2) takes more steps, but selects the targets more wisely, based not only on distance but also on the number of monsters around the said hypothetical target. In contrast to the greedy approach, one observes that the agent tends to take a higher number of steps, but manages to maximise the health percentage, trying to keep it as high as possible.\n",
    "\n",
    "![alt text](img/combattimento1.png \"Title\") \n",
    "\n",
    "During execution with the *brave* parameter's threshold set to **0**, the agent shows a propensity to constantly flee from monsters. The greedy heuristic's results, shown in the plots as heuristic #1, demonstrate that the strategy of escaping from monsters is more risky than the other heuristic, as it also tends to consider to move on dangerous cells that might allow the agent to escape from the nearest monster, but also lead the agent towards a further group of lethal creatures.\n",
    "\n",
    "As can be seen from the graphs, the greedy heuristic often succeeds in recovering health and evading the monsters, but with a higher level of risk. In contrast, the tactical approach (#2) shows greater success as it tends to choose safer routes, focusing on the totality of the monsters rather than a single subgroup, thus ensuring a safer and more consistent escape.\n",
    "\n",
    "Moreover, we conducted a test on the same map using a **random approach** (plotted in green) in which the agent randomly selects the next move. As the plots show, as soon as the agent is reached by monsters, it shows an immediate tendency to die, as it does not make decisions by evaluating perceptions of the current environment."
   ]
  },
  {
   "cell_type": "markdown",
   "metadata": {},
   "source": [
    "![alt text](img/fuga1.png \"Title\")"
   ]
  },
  {
   "cell_type": "markdown",
   "metadata": {},
   "source": [
    "### Monsters surrounding the agent"
   ]
  },
  {
   "cell_type": "markdown",
   "metadata": {},
   "source": [
    "In this context we generated a map by positioning the monsters so that the agent starts in a trap situation, creating a more difficult environment. \n",
    "We set the *brave* parameter's threshold to **0.5** in order to achieve a compromise between escape and combat mode. The plots of two different tests show that this task requires more steps even for the greedy heuristic (#1), which tends to apply almost constantly the danger mode, letting the agent face some monsters even in critical situations such as being surrounded. \n",
    "\n",
    "The tactical heuristic (#2), on the other hand, tends to initially move as far away from the monsters as possible and running away from the trap situation in order to recover life, and then face them with more confidence. We can see that both heuristics mostly tend to complete the task, but in this case the greedy heuristic can get about twice as many steps to perform. Moreover, we performed a further test with the random moving agent, showing that in this case it tends to die immediately, absolutely unable to escape from the trap situation.\n"
   ]
  },
  {
   "cell_type": "markdown",
   "metadata": {},
   "source": [
    "![alt text](img/05brave1.png \"Title\")"
   ]
  },
  {
   "cell_type": "markdown",
   "metadata": {},
   "source": [
    "## Conclusion"
   ]
  },
  {
   "cell_type": "markdown",
   "metadata": {},
   "source": [
    "Our objective for this project was to implement an agent who plays NetHack independently, aiming to kill all monsters before finishing the level. We managed to develop the project successfully by creating two original heuristics.\n",
    "\n",
    "New developments of heuristics could also be created that would allow the agent to be able to juggle even more difficult environments. For example, it would be interesting to also include new skills of the agent, even just the standard NetHack ones like picking food or treasures, and see how the domain of heuristics could be increased. Another interesting development would be to make the agent capable of dealing with different types of monsters in one level, which is a very complex task.\n",
    "\n",
    "In conclusion, it is interesting to note that in addressing the difficulties of the task, we wrote two innovative heuristics that differ from each other, but still have their own similarities in finding solutions. We are sure that this is an excellent start and a cue to eventually improve and expand them, or apply them even in new contexts in which to develop them to their fullest capacity."
   ]
  },
  {
   "cell_type": "markdown",
   "metadata": {},
   "source": [
    "## Appendix"
   ]
  },
  {
   "cell_type": "markdown",
   "metadata": {},
   "source": [
    "### Team contributions"
   ]
  },
  {
   "cell_type": "markdown",
   "metadata": {},
   "source": [
    "In the beginning, we structured the foundations of the project together, going on to create customised maps and an environment that was suitable for the type of task we wanted to develop. So, together we researched and selected the basic features of the game. Then, we split into two subgroups corresponding to the heuristics to be developed: \n",
    " - Francesca and Daniele developed the greedy heuristic \n",
    " - Gioele and Giovanni developed the tactical heuristic\n",
    "\n",
    "After finishing the refinement of the two heuristics, all together we did statistical analyses and plots on the performance of the two heuristics compared to a baseline with a random approach, and together we wrote the report explaining each work step."
   ]
  },
  {
   "cell_type": "markdown",
   "metadata": {},
   "source": [
    "### Relationship with the course"
   ]
  },
  {
   "cell_type": "markdown",
   "metadata": {},
   "source": [
    "Related to the topics covered in the course, in this project we implemented a **Hill Climbing** local search algorithm. The algorithm at each iteration, evaluates the player's current situation and identifies the optimal move through the use of heuristics. Specifically, we created two distinct heuristics for this selection: one follows a \"greedy\" approach, suggesting moves that seem advantageous in the current context without considering possible future disadvantages. On the other hand, the other heuristic evaluates the preferable options and, among them, selects the one that does not compromise the situation in the next steps."
   ]
  },
  {
   "cell_type": "markdown",
   "metadata": {},
   "source": [
    "### Github metrics"
   ]
  },
  {
   "cell_type": "markdown",
   "metadata": {},
   "source": [
    "At the following link you can view the commits and the development of the work:\n",
    " - https://github.com/AIF-2023/AIF-Project/commits/main/"
   ]
  }
 ],
 "metadata": {
  "kernelspec": {
   "display_name": "Python 3 (ipykernel)",
   "language": "python",
   "name": "python3"
  },
  "language_info": {
   "codemirror_mode": {
    "name": "ipython",
    "version": 3
   },
   "file_extension": ".py",
   "mimetype": "text/x-python",
   "name": "python",
   "nbconvert_exporter": "python",
   "pygments_lexer": "ipython3",
   "version": "3.10.12"
  }
 },
 "nbformat": 4,
 "nbformat_minor": 4
}
